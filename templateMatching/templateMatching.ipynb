{
 "cells": [
  {
   "cell_type": "code",
   "execution_count": null,
   "metadata": {},
   "outputs": [],
   "source": [
    "#NAME PROJECT: TEMPLATE MATCHING\n",
    "#AUTHOR: JASON PAUL CAHUANA NINA\n",
    "#DATE: 29/04/2021\n",
    "#CONTACT: pcahuana.27@gmail.com"
   ]
  },
  {
   "cell_type": "code",
   "execution_count": 2,
   "metadata": {},
   "outputs": [],
   "source": [
    "# import the necessary packages\n",
    "import cv2\n",
    "# load the input image and template image \n",
    " \n",
    "imagen = cv2.imread(r'E:\\ANACONDA\\PLAYING WITH AI\\templateMatching\\esco.jpg')\n",
    "template = cv2.imread(r'E:\\ANACONDA\\PLAYING WITH AI\\templateMatching\\esco_label.jpeg')\n",
    "#print(imagen)\n",
    "#print(template)\n",
    "\n",
    "\n",
    "#cv2.imshow(\"Image\", imagen)\n",
    "#cv2.imshow(\"Template\", template)\n",
    "#cv2.waitKey(0)\n",
    "# convert both the image and template to grayscale\n",
    "#Template matching is typically applied to grayscale images\n",
    "imageGray = cv2.cvtColor(imagen, cv2.COLOR_BGR2GRAY)\n",
    "templateGray = cv2.cvtColor(template, cv2.COLOR_BGR2GRAY)"
   ]
  },
  {
   "cell_type": "code",
   "execution_count": 3,
   "metadata": {},
   "outputs": [],
   "source": [
    "# perform template matching\n",
    "\n",
    "result = cv2.matchTemplate(imageGray, templateGray,\n",
    "\tcv2.TM_CCOEFF_NORMED)\n",
    "(minVal, maxVal, minLoc, maxLoc) = cv2.minMaxLoc(result)"
   ]
  },
  {
   "cell_type": "code",
   "execution_count": 4,
   "metadata": {},
   "outputs": [],
   "source": [
    "# determine the starting and ending (x, y)-coordinates of the\n",
    "# bounding box\n",
    "(startX, startY) = maxLoc\n",
    "endX = startX + template.shape[1]\n",
    "endY = startY + template.shape[0]"
   ]
  },
  {
   "cell_type": "code",
   "execution_count": null,
   "metadata": {},
   "outputs": [],
   "source": [
    "# draw the bounding box on the image\n",
    "cv2.rectangle(imagen, (startX, startY), (endX, endY), (255, 0, 0), 4)\n",
    "# show the output image\n",
    "cv2.imshow(\"Output\", imagen)\n",
    "cv2.waitKey(0)"
   ]
  },
  {
   "cell_type": "code",
   "execution_count": null,
   "metadata": {},
   "outputs": [],
   "source": [
    "#The key point here is that template matching is tremendously sensitive \n",
    "#to changes in rotation, viewing angle, and scale."
   ]
  },
  {
   "cell_type": "code",
   "execution_count": null,
   "metadata": {},
   "outputs": [],
   "source": []
  },
  {
   "cell_type": "code",
   "execution_count": null,
   "metadata": {},
   "outputs": [],
   "source": []
  }
 ],
 "metadata": {
  "kernelspec": {
   "display_name": "Python 3",
   "language": "python",
   "name": "python3"
  },
  "language_info": {
   "codemirror_mode": {
    "name": "ipython",
    "version": 3
   },
   "file_extension": ".py",
   "mimetype": "text/x-python",
   "name": "python",
   "nbconvert_exporter": "python",
   "pygments_lexer": "ipython3",
   "version": "3.7.9"
  }
 },
 "nbformat": 4,
 "nbformat_minor": 4
}
