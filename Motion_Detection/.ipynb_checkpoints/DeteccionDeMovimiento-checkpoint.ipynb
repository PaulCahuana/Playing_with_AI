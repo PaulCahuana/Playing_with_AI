{
 "cells": [
  {
   "cell_type": "code",
   "execution_count": 1,
   "metadata": {},
   "outputs": [
    {
     "name": "stdout",
     "output_type": "stream",
     "text": [
      "Requirement already satisfied: cv in d:\\anaconda\\envs\\paul-keras\\lib\\site-packages (1.0.0)\n",
      "Note: you may need to restart the kernel to use updated packages.\n"
     ]
    }
   ],
   "source": [
    "pip install cv"
   ]
  },
  {
   "cell_type": "code",
   "execution_count": 2,
   "metadata": {},
   "outputs": [
    {
     "ename": "ModuleNotFoundError",
     "evalue": "No module named 'cv2'",
     "output_type": "error",
     "traceback": [
      "\u001b[1;31m---------------------------------------------------------------------------\u001b[0m",
      "\u001b[1;31mModuleNotFoundError\u001b[0m                       Traceback (most recent call last)",
      "\u001b[1;32m<ipython-input-2-62e6c965143b>\u001b[0m in \u001b[0;36m<module>\u001b[1;34m\u001b[0m\n\u001b[1;32m----> 1\u001b[1;33m \u001b[1;32mimport\u001b[0m \u001b[0mcv2\u001b[0m\u001b[1;33m\u001b[0m\u001b[1;33m\u001b[0m\u001b[0m\n\u001b[0m\u001b[0;32m      2\u001b[0m \u001b[0mcv2\u001b[0m\u001b[1;33m.\u001b[0m\u001b[0m__version__\u001b[0m\u001b[1;33m\u001b[0m\u001b[1;33m\u001b[0m\u001b[0m\n",
      "\u001b[1;31mModuleNotFoundError\u001b[0m: No module named 'cv2'"
     ]
    }
   ],
   "source": [
    "import cv2\n",
    "cv2.__version__"
   ]
  },
  {
   "cell_type": "code",
   "execution_count": null,
   "metadata": {},
   "outputs": [],
   "source": [
    "import cv2\n",
    "import numpy as np\n",
    "#video=cv2.VideoCapture(0)# para ver con tu cámara\n",
    "video=cv2.VideoCapture(\"roboArgos.mp4\")# prueba con video normal\n",
    "i=0 \n",
    "while True:\n",
    "    ret, frame = video.read()\n",
    "    if ret==False:\n",
    "        break\n",
    "        \n",
    "    gray=cv2.cvtColor(frame, cv2.COLOR_BGR2GRAY)# pasamos a gray  \n",
    "    if i==20: # en el frame 20, vamos a guardar la imágen para que \n",
    "            #sea restada con las demás\n",
    "        bgGray= gray\n",
    "    if i>20:\n",
    "        #en esta sección vamos a poder ver si hay movimiento\n",
    "        dif=cv2.absdiff(gray,bgGray)#hacemos la resta\n",
    "        #pixeles mayores a 40 se asignará 255 es decir, blanco\n",
    "        _,th=cv2.threshold(dif,40,255, cv2.THRESH_BINARY) #binarizamos, pasamos a blanco y negro\n",
    "        # En cv.findContours()primero es un frame\n",
    "        #el segundo es el modo de recuperación de contorno\n",
    "        #tercero es el metodo de aproximación de contorno\n",
    "        cnts,_= cv2.findContours(th, cv2.RETR_EXTERNAL, cv2.CHAIN_APPROX_SIMPLE)\n",
    "        #-1 : todos los contornos son dibujados\n",
    "        #0,0,255 : rojo\n",
    "        #2 es el tamaño del contorno\n",
    "        #cv2.drawContours(frame, cnts, -1, (0,0,255),2)#dibujamos los contornos\n",
    "        #cv2.imshow('dif',dif) #mostramos el video con contornos rojos\n",
    "        cv2.imshow('th',th)\n",
    "        #vamos a analizar cada uno de los contornos con un for\n",
    "        for c in cnts:\n",
    "            area=cv2.contourArea(c) #devuelve el area en pixeles del contorno \n",
    "            if area >9000: #si es mucho el contorno, vamos a encerrar en un rectangulo \n",
    "                x,y,w,h =cv2.boundingRect(c) #nos devuelve 4 datos\n",
    "                cv2.rectangle(frame,(x,y),(x+w,y+h),(0,255,0),2) #dibujamos nuestro rectángulo\n",
    "    cv2.imshow(\"camara\", frame)\n",
    "    i=i+1 \n",
    "    #if cv2.waitKey(1) & 0xFF == ord('q'):# si le ponemos 1 es para nuestra cámara \n",
    "    if cv2.waitKey(30) & 0xFF == ord('q'):# si le ponemos 30 es para nuestros vídeos\n",
    "        break\n",
    "video.release()"
   ]
  },
  {
   "cell_type": "code",
   "execution_count": null,
   "metadata": {},
   "outputs": [],
   "source": [
    "NOTAS IMPORTANTES:\n",
    "    * AL INICIALIZAR LA IMÁGEN DEBE DE ESTAR FIJA, ES DECIR NO DEBE DE HABER MOVIMIENTO, \n",
    "        PARA QUE ASÍ PUEDA TENER UNA IMÁGEN BASE\n",
    "    * ILUMINACIÓN, AL AUMENTAR O REDUCIR LUZ, YA SEA CUANDO SE ABRE UNA CORTINA, ETC, VA A VER PROBLEMAS\n",
    "        LO DETECTARÁ COMO MOVIMIENTO."
   ]
  },
  {
   "cell_type": "code",
   "execution_count": null,
   "metadata": {},
   "outputs": [],
   "source": []
  }
 ],
 "metadata": {
  "kernelspec": {
   "display_name": "Python 3",
   "language": "python",
   "name": "python3"
  },
  "language_info": {
   "codemirror_mode": {
    "name": "ipython",
    "version": 3
   },
   "file_extension": ".py",
   "mimetype": "text/x-python",
   "name": "python",
   "nbconvert_exporter": "python",
   "pygments_lexer": "ipython3",
   "version": "3.7.9"
  }
 },
 "nbformat": 4,
 "nbformat_minor": 4
}
